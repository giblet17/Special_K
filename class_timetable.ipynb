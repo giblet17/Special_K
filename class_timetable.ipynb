{
 "cells": [
  {
   "cell_type": "code",
   "execution_count": 69,
   "metadata": {},
   "outputs": [],
   "source": [
    "import numpy as np\n",
    "import pandas as pd\n",
    "from scipy.ndimage.interpolation import shift"
   ]
  },
  {
   "cell_type": "code",
   "execution_count": 32,
   "metadata": {},
   "outputs": [],
   "source": [
    "class timetable:\n",
    "    # Arrays for calculating the costs\n",
    "    cost_multiplier = np.array([0,0,9,9,9,18,18,36,36,235])\n",
    "    cost_additive = np.array([0,50,50,100,200,200,300,300,400,500])\n",
    "\n",
    "    cost_multiplier_matrix = np.resize(cost_multiplier, (100,10))\n",
    "    cost_additive_matrix = np.resize(cost_additive, (100, 10))\n",
    "\n",
    "    # Init a 100 day by 5000 families by 10 choices matrix as the timetable\n",
    "    def __init__(self):\n",
    "        self.timetable = np.zeros((100, 5000, 10))\n",
    "        \n",
    "    # Function for assigning a family their specific choice\n",
    "    def assign_family_by_choice(self, fam_id, choice):\n",
    "        self.timetable[:,fam_id,:] = np.zeros((100,10))\n",
    "        day = df.iloc[fam_id, choice + 1]\n",
    "        self.timetable[day + 1, fam_id, choice] = df.loc[fam_id, 'n_people']\n",
    "    \n",
    "    # Function for assigning a family a specific day\n",
    "    def assign_family_by_day(self, fam_id, day):\n",
    "        self.timetable[:,fam_id,:] = np.zeros((100,10))\n",
    "        choice = np.where(df.iloc[fam_id] == day)[0][0]\n",
    "        self.timetable[day + 1, fam_id, choice] = df.loc[fam_id, 'n_people']\n",
    "        \n",
    "    # Function for calculating the preference cost to santa of the current timetable\n",
    "    def get_preference_cost(self):\n",
    "        multiple_cost = np.sum(self.timetable, axis=1) * self.cost_multiplier_matrix\n",
    "        additive_cost = np.count_nonzero(self.timetable, axis=1) * self.cost_additive_matrix\n",
    "        \n",
    "        return np.sum(multiple_cost + additive_cost)\n",
    "    \n",
    "    # Function for calculating the tax cost to Santa\n",
    "    def get_tax_cost(self):\n",
    "        occupancy_days = np.sum(np.sum(self.timetable, axis=1), axis=1)\n",
    "        prior_day_occupancy = shift(occupancy_days, -1, cval=100)\n",
    "        \n",
    "        return np.sum(((occupancy_days-125)/400)*(occupancy_days**(0.5 + (abs(occupancy_days - prior_day_occupancy) / 50))))\n",
    "    \n",
    "    # Function for calculating the total cost to Santa\n",
    "    def get_total_cost(self):\n",
    "        return self.get_tax_cost() + self.get_preference_cost()"
   ]
  },
  {
   "cell_type": "code",
   "execution_count": 33,
   "metadata": {},
   "outputs": [
    {
     "data": {
      "text/html": [
       "<div>\n",
       "<style scoped>\n",
       "    .dataframe tbody tr th:only-of-type {\n",
       "        vertical-align: middle;\n",
       "    }\n",
       "\n",
       "    .dataframe tbody tr th {\n",
       "        vertical-align: top;\n",
       "    }\n",
       "\n",
       "    .dataframe thead th {\n",
       "        text-align: right;\n",
       "    }\n",
       "</style>\n",
       "<table border=\"1\" class=\"dataframe\">\n",
       "  <thead>\n",
       "    <tr style=\"text-align: right;\">\n",
       "      <th></th>\n",
       "      <th>family_id</th>\n",
       "      <th>choice_0</th>\n",
       "      <th>choice_1</th>\n",
       "      <th>choice_2</th>\n",
       "      <th>choice_3</th>\n",
       "      <th>choice_4</th>\n",
       "      <th>choice_5</th>\n",
       "      <th>choice_6</th>\n",
       "      <th>choice_7</th>\n",
       "      <th>choice_8</th>\n",
       "      <th>choice_9</th>\n",
       "      <th>n_people</th>\n",
       "    </tr>\n",
       "  </thead>\n",
       "  <tbody>\n",
       "    <tr>\n",
       "      <th>0</th>\n",
       "      <td>0</td>\n",
       "      <td>52</td>\n",
       "      <td>38</td>\n",
       "      <td>12</td>\n",
       "      <td>82</td>\n",
       "      <td>33</td>\n",
       "      <td>75</td>\n",
       "      <td>64</td>\n",
       "      <td>76</td>\n",
       "      <td>10</td>\n",
       "      <td>28</td>\n",
       "      <td>4</td>\n",
       "    </tr>\n",
       "    <tr>\n",
       "      <th>1</th>\n",
       "      <td>1</td>\n",
       "      <td>26</td>\n",
       "      <td>4</td>\n",
       "      <td>82</td>\n",
       "      <td>5</td>\n",
       "      <td>11</td>\n",
       "      <td>47</td>\n",
       "      <td>38</td>\n",
       "      <td>6</td>\n",
       "      <td>66</td>\n",
       "      <td>61</td>\n",
       "      <td>4</td>\n",
       "    </tr>\n",
       "    <tr>\n",
       "      <th>2</th>\n",
       "      <td>2</td>\n",
       "      <td>100</td>\n",
       "      <td>54</td>\n",
       "      <td>25</td>\n",
       "      <td>12</td>\n",
       "      <td>27</td>\n",
       "      <td>82</td>\n",
       "      <td>10</td>\n",
       "      <td>89</td>\n",
       "      <td>80</td>\n",
       "      <td>33</td>\n",
       "      <td>3</td>\n",
       "    </tr>\n",
       "    <tr>\n",
       "      <th>3</th>\n",
       "      <td>3</td>\n",
       "      <td>2</td>\n",
       "      <td>95</td>\n",
       "      <td>1</td>\n",
       "      <td>96</td>\n",
       "      <td>32</td>\n",
       "      <td>6</td>\n",
       "      <td>40</td>\n",
       "      <td>31</td>\n",
       "      <td>9</td>\n",
       "      <td>59</td>\n",
       "      <td>2</td>\n",
       "    </tr>\n",
       "    <tr>\n",
       "      <th>4</th>\n",
       "      <td>4</td>\n",
       "      <td>53</td>\n",
       "      <td>1</td>\n",
       "      <td>47</td>\n",
       "      <td>93</td>\n",
       "      <td>26</td>\n",
       "      <td>3</td>\n",
       "      <td>46</td>\n",
       "      <td>16</td>\n",
       "      <td>42</td>\n",
       "      <td>39</td>\n",
       "      <td>4</td>\n",
       "    </tr>\n",
       "  </tbody>\n",
       "</table>\n",
       "</div>"
      ],
      "text/plain": [
       "   family_id  choice_0  choice_1  choice_2  choice_3  choice_4  choice_5  \\\n",
       "0          0        52        38        12        82        33        75   \n",
       "1          1        26         4        82         5        11        47   \n",
       "2          2       100        54        25        12        27        82   \n",
       "3          3         2        95         1        96        32         6   \n",
       "4          4        53         1        47        93        26         3   \n",
       "\n",
       "   choice_6  choice_7  choice_8  choice_9  n_people  \n",
       "0        64        76        10        28         4  \n",
       "1        38         6        66        61         4  \n",
       "2        10        89        80        33         3  \n",
       "3        40        31         9        59         2  \n",
       "4        46        16        42        39         4  "
      ]
     },
     "execution_count": 33,
     "metadata": {},
     "output_type": "execute_result"
    }
   ],
   "source": [
    "df = pd.read_csv('family_data.csv')\n",
    "df.head()"
   ]
  },
  {
   "cell_type": "code",
   "execution_count": 34,
   "metadata": {},
   "outputs": [],
   "source": [
    "# Create timetable object\n",
    "schedule = timetable()"
   ]
  },
  {
   "cell_type": "code",
   "execution_count": 38,
   "metadata": {},
   "outputs": [
    {
     "name": "stdout",
     "output_type": "stream",
     "text": [
      "[0. 0. 0. 4. 0. 0. 0. 0. 0. 0.]\n"
     ]
    }
   ],
   "source": [
    "# assign a family one of their choices\n",
    "schedule.assign_family_by_choice(fam_id=0, choice=3)\n",
    "print(schedule.timetable[83,0])"
   ]
  },
  {
   "cell_type": "code",
   "execution_count": 39,
   "metadata": {},
   "outputs": [
    {
     "data": {
      "text/plain": [
       "136.0"
      ]
     },
     "execution_count": 39,
     "metadata": {},
     "output_type": "execute_result"
    }
   ],
   "source": [
    "# calculate the preference cost\n",
    "schedule.get_preference_cost()"
   ]
  },
  {
   "cell_type": "code",
   "execution_count": 30,
   "metadata": {},
   "outputs": [],
   "source": [
    "schedule.timetable[:,0,:] = np.zeros((100,10))"
   ]
  },
  {
   "cell_type": "code",
   "execution_count": 78,
   "metadata": {},
   "outputs": [],
   "source": [
    "occupancy_days = np.sum(np.sum(schedule.timetable, axis=1), axis=1)\n",
    "prior_day_occupancy = shift(occupancy_days, -1, cval=100)"
   ]
  },
  {
   "cell_type": "code",
   "execution_count": 80,
   "metadata": {},
   "outputs": [
    {
     "data": {
      "text/plain": [
       "-0.6759587185336929"
      ]
     },
     "execution_count": 80,
     "metadata": {},
     "output_type": "execute_result"
    }
   ],
   "source": [
    "np.sum(((occupancy_days-125)/400)*(occupancy_days**(0.5 + (abs(occupancy_days - prior_day_occupancy) / 50))))"
   ]
  },
  {
   "cell_type": "code",
   "execution_count": 65,
   "metadata": {},
   "outputs": [
    {
     "data": {
      "text/plain": [
       "array([0., 0., 0., 0., 0., 0., 0., 0., 0., 0., 0., 0., 0., 0., 0., 0., 0.,\n",
       "       0., 0., 0., 0., 0., 0., 0., 0., 0., 0., 0., 0., 0., 0., 0., 0., 0.,\n",
       "       0., 0., 0., 0., 0., 0., 0., 0., 0., 0., 0., 0., 0., 0., 0., 0., 0.,\n",
       "       0., 0., 0., 0., 0., 0., 0., 0., 0., 0., 0., 0., 0., 0., 0., 0., 0.,\n",
       "       0., 0., 0., 0., 0., 0., 0., 0., 0., 0., 0., 0., 0., 0., 0., 4., 0.,\n",
       "       0., 0., 0., 0., 0., 0., 0., 0., 0., 0., 0., 0., 0., 0.])"
      ]
     },
     "execution_count": 65,
     "metadata": {},
     "output_type": "execute_result"
    }
   ],
   "source": [
    "occupancy_days[-1:]+occupancy_days[:-1]"
   ]
  },
  {
   "cell_type": "code",
   "execution_count": 74,
   "metadata": {},
   "outputs": [
    {
     "data": {
      "text/plain": [
       "array([0., 0., 0., 0., 0., 0., 0., 0., 0., 0., 0., 0., 0., 0., 0., 0., 0.,\n",
       "       0., 0., 0., 0., 0., 0., 0., 0., 0., 0., 0., 0., 0., 0., 0., 0., 0.,\n",
       "       0., 0., 0., 0., 0., 0., 0., 0., 0., 0., 0., 0., 0., 0., 0., 0., 0.,\n",
       "       0., 0., 0., 0., 0., 0., 0., 0., 0., 0., 0., 0., 0., 0., 0., 0., 0.,\n",
       "       0., 0., 0., 0., 0., 0., 0., 0., 0., 0., 0., 0., 0., 0., 0., 4., 0.,\n",
       "       0., 0., 0., 0., 0., 0., 0., 0., 0., 0., 0., 0., 0., 0., 0.])"
      ]
     },
     "execution_count": 74,
     "metadata": {},
     "output_type": "execute_result"
    }
   ],
   "source": [
    "occupancy_days"
   ]
  },
  {
   "cell_type": "code",
   "execution_count": 68,
   "metadata": {},
   "outputs": [
    {
     "data": {
      "text/plain": [
       "array([0., 0., 0., 0., 0., 0., 0., 0., 0., 0., 0., 0., 0., 0., 0., 0., 0.,\n",
       "       0., 0., 0., 0., 0., 0., 0., 0., 0., 0., 0., 0., 0., 0., 0., 0., 0.,\n",
       "       0., 0., 0., 0., 0., 0., 0., 0., 0., 0., 0., 0., 0., 0., 0., 0., 0.,\n",
       "       0., 0., 0., 0., 0., 0., 0., 0., 0., 0., 0., 0., 0., 0., 0., 0., 0.,\n",
       "       0., 0., 0., 0., 0., 0., 0., 0., 0., 0., 0., 0., 0., 0., 0., 4., 0.,\n",
       "       0., 0., 0., 0., 0., 0., 0., 0., 0., 0., 0., 0., 0., 0.])"
      ]
     },
     "execution_count": 68,
     "metadata": {},
     "output_type": "execute_result"
    }
   ],
   "source": [
    "[occupancy_days[-1]] + occupancy_days[:-1]"
   ]
  },
  {
   "cell_type": "code",
   "execution_count": 76,
   "metadata": {},
   "outputs": [
    {
     "data": {
      "text/plain": [
       "array([ 1.01262585e-61, -3.77787337e-61,  1.40988676e-60, -5.26175971e-60,\n",
       "        1.71479460e-59, -7.32868486e-59,  2.53596594e-58, -1.02075412e-57,\n",
       "        3.80950624e-57, -1.29427973e-56,  5.30595771e-56, -1.98021038e-55,\n",
       "        6.57458268e-55, -2.75807726e-54,  1.02932845e-53, -3.58049388e-53,\n",
       "        1.43366958e-52, -5.35052771e-52,  1.99684412e-51, -6.78413255e-51,\n",
       "        2.78124508e-50, -1.03797479e-49,  3.87377467e-49, -1.44571239e-48,\n",
       "        4.71124432e-48, -2.01361760e-47,  7.51492317e-47, -2.80460751e-46,\n",
       "        9.59112618e-46, -3.55598972e-45,  1.31772651e-44, -5.44079400e-44,\n",
       "        1.80632421e-43, -7.57804845e-43,  2.82816619e-42, -1.05548599e-41,\n",
       "        3.93912734e-41, -1.47010234e-40,  5.02731913e-40, -2.23125940e-39,\n",
       "        6.90702002e-39, -2.85192275e-38,  1.18190150e-37, -3.97221597e-37,\n",
       "        1.48245118e-36, -5.53258313e-36,  1.91432486e-35, -7.10404112e-35,\n",
       "        2.87587888e-34, -1.07329261e-33,  4.00558255e-33, -1.49490376e-32,\n",
       "        5.57905677e-32, -2.08213233e-31,  7.27758559e-31, -2.90003623e-30,\n",
       "        1.00342216e-29, -3.72368504e-29,  1.38124319e-28, -5.62592080e-28,\n",
       "        2.09962222e-27, -7.83589682e-27,  2.92439651e-26, -1.09139963e-25,\n",
       "        3.81466494e-25, -1.41672601e-24,  5.67317847e-24, -2.11725903e-23,\n",
       "        7.90171828e-23, -2.94896141e-22,  1.10056738e-21, -3.68385691e-21,\n",
       "        1.53289261e-20, -5.72083312e-20,  2.13504399e-19, -7.96809263e-19,\n",
       "        2.97373265e-18, -1.10981214e-17,  4.14187528e-17, -1.40699102e-16,\n",
       "        6.32399957e-16, -1.54576890e-16,  4.00000000e+00,  1.66574543e-17,\n",
       "        1.33820735e-17,  7.87680812e-18,  2.38190874e-18,  1.02699384e-18,\n",
       "        1.64406725e-19,  5.01027352e-20,  3.15937536e-20,  7.32839982e-21,\n",
       "       -1.32738954e-22, -1.27059545e-22, -1.13411586e-22, -8.24670845e-24,\n",
       "       -6.62999374e-24, -1.21567325e-24,  5.70242244e-24,  1.00000000e+02])"
      ]
     },
     "execution_count": 76,
     "metadata": {},
     "output_type": "execute_result"
    }
   ],
   "source": [
    "shift(occupancy_days, -1, cval=100)"
   ]
  },
  {
   "cell_type": "code",
   "execution_count": null,
   "metadata": {},
   "outputs": [],
   "source": []
  }
 ],
 "metadata": {
  "kernelspec": {
   "display_name": "Python 3",
   "language": "python",
   "name": "python3"
  },
  "language_info": {
   "codemirror_mode": {
    "name": "ipython",
    "version": 3
   },
   "file_extension": ".py",
   "mimetype": "text/x-python",
   "name": "python",
   "nbconvert_exporter": "python",
   "pygments_lexer": "ipython3",
   "version": "3.7.0"
  }
 },
 "nbformat": 4,
 "nbformat_minor": 2
}
