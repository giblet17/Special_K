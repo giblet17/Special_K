{
 "cells": [
  {
   "cell_type": "code",
   "execution_count": 1,
   "metadata": {},
   "outputs": [],
   "source": [
    "import numpy as np\n",
    "import pandas as pd\n",
    "from scipy.ndimage.interpolation import shift"
   ]
  },
  {
   "cell_type": "code",
   "execution_count": 2,
   "metadata": {},
   "outputs": [],
   "source": [
    "class timetable:\n",
    "    # Arrays for calculating the costs\n",
    "    cost_multiplier = np.array([0,0,9,9,9,18,18,36,36,235])\n",
    "    cost_additive = np.array([0,50,50,100,200,200,300,300,400,500])\n",
    "\n",
    "    cost_multiplier_matrix = np.resize(cost_multiplier, (100,10))\n",
    "    cost_additive_matrix = np.resize(cost_additive, (100, 10))\n",
    "\n",
    "    # Init a 100 day by 5000 families by 10 choices matrix as the timetable\n",
    "    def __init__(self):\n",
    "        self.timetable = np.zeros((100, 5000, 10))\n",
    "        \n",
    "    # Function for assigning a family their specific choice\n",
    "    def assign_family_by_choice(self, fam_id, choice):\n",
    "        self.timetable[:,fam_id,:] = np.zeros((100,10))\n",
    "        day = df.iloc[fam_id, choice + 1]\n",
    "        self.timetable[day - 1, fam_id, choice] = df.loc[fam_id, 'n_people']\n",
    "    \n",
    "    # Function for assigning a family a specific day\n",
    "    def assign_family_by_day(self, fam_id, day):\n",
    "        self.timetable[:,fam_id,:] = np.zeros((100,10))\n",
    "        choice = np.where(df.iloc[fam_id] == day)[0][0]\n",
    "        self.timetable[day - 1, fam_id, choice] = df.loc[fam_id, 'n_people']\n",
    "        \n",
    "    # Function for calculating the preference cost to santa of the current timetable\n",
    "    def get_preference_cost(self):\n",
    "        multiple_cost = np.sum(self.timetable, axis=1) * self.cost_multiplier_matrix\n",
    "        additive_cost = np.count_nonzero(self.timetable, axis=1) * self.cost_additive_matrix\n",
    "        \n",
    "        return np.sum(multiple_cost + additive_cost)\n",
    "    \n",
    "    # Function for calculating the tax cost to Santa\n",
    "    def get_tax_cost(self):\n",
    "        occupancy_days = np.sum(np.sum(self.timetable, axis=1), axis=1)\n",
    "        prior_day_occupancy = shift(occupancy_days, -1, cval=100)\n",
    "        \n",
    "        return np.sum(((occupancy_days-125)/400)*(occupancy_days**(0.5 + (abs(occupancy_days - prior_day_occupancy) / 50))))\n",
    "    \n",
    "    # Function to reuturn the total number of people on each day, vector [100]\n",
    "    def get_day_totals(self):\n",
    "        return np.sum(np.sum(schedule.timetable, axis = 1), axis = 1)\n",
    "    \n",
    "    def get_specific_day(self, day):\n",
    "        return self.get_day_totals()[day]\n",
    "    \n",
    "    # Function for calculating the total cost to Santa\n",
    "    def get_total_cost(self):\n",
    "        return self.get_tax_cost() + self.get_preference_cost()"
   ]
  },
  {
   "cell_type": "code",
   "execution_count": 3,
   "metadata": {},
   "outputs": [
    {
     "data": {
      "text/html": [
       "<div>\n",
       "<style scoped>\n",
       "    .dataframe tbody tr th:only-of-type {\n",
       "        vertical-align: middle;\n",
       "    }\n",
       "\n",
       "    .dataframe tbody tr th {\n",
       "        vertical-align: top;\n",
       "    }\n",
       "\n",
       "    .dataframe thead th {\n",
       "        text-align: right;\n",
       "    }\n",
       "</style>\n",
       "<table border=\"1\" class=\"dataframe\">\n",
       "  <thead>\n",
       "    <tr style=\"text-align: right;\">\n",
       "      <th></th>\n",
       "      <th>family_id</th>\n",
       "      <th>choice_0</th>\n",
       "      <th>choice_1</th>\n",
       "      <th>choice_2</th>\n",
       "      <th>choice_3</th>\n",
       "      <th>choice_4</th>\n",
       "      <th>choice_5</th>\n",
       "      <th>choice_6</th>\n",
       "      <th>choice_7</th>\n",
       "      <th>choice_8</th>\n",
       "      <th>choice_9</th>\n",
       "      <th>n_people</th>\n",
       "    </tr>\n",
       "  </thead>\n",
       "  <tbody>\n",
       "    <tr>\n",
       "      <th>0</th>\n",
       "      <td>0</td>\n",
       "      <td>52</td>\n",
       "      <td>38</td>\n",
       "      <td>12</td>\n",
       "      <td>82</td>\n",
       "      <td>33</td>\n",
       "      <td>75</td>\n",
       "      <td>64</td>\n",
       "      <td>76</td>\n",
       "      <td>10</td>\n",
       "      <td>28</td>\n",
       "      <td>4</td>\n",
       "    </tr>\n",
       "    <tr>\n",
       "      <th>1</th>\n",
       "      <td>1</td>\n",
       "      <td>26</td>\n",
       "      <td>4</td>\n",
       "      <td>82</td>\n",
       "      <td>5</td>\n",
       "      <td>11</td>\n",
       "      <td>47</td>\n",
       "      <td>38</td>\n",
       "      <td>6</td>\n",
       "      <td>66</td>\n",
       "      <td>61</td>\n",
       "      <td>4</td>\n",
       "    </tr>\n",
       "    <tr>\n",
       "      <th>2</th>\n",
       "      <td>2</td>\n",
       "      <td>100</td>\n",
       "      <td>54</td>\n",
       "      <td>25</td>\n",
       "      <td>12</td>\n",
       "      <td>27</td>\n",
       "      <td>82</td>\n",
       "      <td>10</td>\n",
       "      <td>89</td>\n",
       "      <td>80</td>\n",
       "      <td>33</td>\n",
       "      <td>3</td>\n",
       "    </tr>\n",
       "    <tr>\n",
       "      <th>3</th>\n",
       "      <td>3</td>\n",
       "      <td>2</td>\n",
       "      <td>95</td>\n",
       "      <td>1</td>\n",
       "      <td>96</td>\n",
       "      <td>32</td>\n",
       "      <td>6</td>\n",
       "      <td>40</td>\n",
       "      <td>31</td>\n",
       "      <td>9</td>\n",
       "      <td>59</td>\n",
       "      <td>2</td>\n",
       "    </tr>\n",
       "    <tr>\n",
       "      <th>4</th>\n",
       "      <td>4</td>\n",
       "      <td>53</td>\n",
       "      <td>1</td>\n",
       "      <td>47</td>\n",
       "      <td>93</td>\n",
       "      <td>26</td>\n",
       "      <td>3</td>\n",
       "      <td>46</td>\n",
       "      <td>16</td>\n",
       "      <td>42</td>\n",
       "      <td>39</td>\n",
       "      <td>4</td>\n",
       "    </tr>\n",
       "  </tbody>\n",
       "</table>\n",
       "</div>"
      ],
      "text/plain": [
       "   family_id  choice_0  choice_1  choice_2  choice_3  choice_4  choice_5  \\\n",
       "0          0        52        38        12        82        33        75   \n",
       "1          1        26         4        82         5        11        47   \n",
       "2          2       100        54        25        12        27        82   \n",
       "3          3         2        95         1        96        32         6   \n",
       "4          4        53         1        47        93        26         3   \n",
       "\n",
       "   choice_6  choice_7  choice_8  choice_9  n_people  \n",
       "0        64        76        10        28         4  \n",
       "1        38         6        66        61         4  \n",
       "2        10        89        80        33         3  \n",
       "3        40        31         9        59         2  \n",
       "4        46        16        42        39         4  "
      ]
     },
     "execution_count": 3,
     "metadata": {},
     "output_type": "execute_result"
    }
   ],
   "source": [
    "df = pd.read_csv('family_data.csv')\n",
    "df.head()"
   ]
  },
  {
   "cell_type": "code",
   "execution_count": 8,
   "metadata": {},
   "outputs": [],
   "source": [
    "# Create timetable object\n",
    "schedule = timetable()"
   ]
  },
  {
   "cell_type": "code",
   "execution_count": 38,
   "metadata": {},
   "outputs": [
    {
     "name": "stdout",
     "output_type": "stream",
     "text": [
      "[0. 0. 0. 4. 0. 0. 0. 0. 0. 0.]\n"
     ]
    }
   ],
   "source": [
    "# assign a family one of their choices\n",
    "schedule.assign_family_by_choice(fam_id=0, choice=3)\n",
    "print(schedule.timetable[83,0])"
   ]
  },
  {
   "cell_type": "code",
   "execution_count": 39,
   "metadata": {},
   "outputs": [
    {
     "data": {
      "text/plain": [
       "136.0"
      ]
     },
     "execution_count": 39,
     "metadata": {},
     "output_type": "execute_result"
    }
   ],
   "source": [
    "# calculate the preference cost\n",
    "schedule.get_preference_cost()"
   ]
  },
  {
   "cell_type": "code",
   "execution_count": null,
   "metadata": {},
   "outputs": [],
   "source": []
  },
  {
   "cell_type": "code",
   "execution_count": null,
   "metadata": {},
   "outputs": [],
   "source": []
  },
  {
   "cell_type": "code",
   "execution_count": null,
   "metadata": {},
   "outputs": [],
   "source": []
  },
  {
   "cell_type": "code",
   "execution_count": null,
   "metadata": {},
   "outputs": [],
   "source": []
  },
  {
   "cell_type": "code",
   "execution_count": null,
   "metadata": {},
   "outputs": [],
   "source": []
  },
  {
   "cell_type": "code",
   "execution_count": 36,
   "metadata": {},
   "outputs": [],
   "source": [
    "def test_day_limit(day, choice, npeople):\n",
    "    if schedule.get_specific_day(day-1) + npeople >= 300:\n",
    "        return False, choice + 1\n",
    "    else:\n",
    "        return True, choice"
   ]
  },
  {
   "cell_type": "code",
   "execution_count": 9,
   "metadata": {},
   "outputs": [
    {
     "name": "stdout",
     "output_type": "stream",
     "text": [
      "No choices are acceptable for, 3993\n",
      "No choices are acceptable for, 4294\n",
      "No choices are acceptable for, 4351\n",
      "No choices are acceptable for, 4370\n",
      "No choices are acceptable for, 4403\n",
      "No choices are acceptable for, 4451\n",
      "No choices are acceptable for, 4507\n",
      "No choices are acceptable for, 4541\n",
      "No choices are acceptable for, 4549\n",
      "No choices are acceptable for, 4563\n",
      "No choices are acceptable for, 4566\n",
      "No choices are acceptable for, 4590\n",
      "No choices are acceptable for, 4599\n",
      "No choices are acceptable for, 4638\n",
      "No choices are acceptable for, 4645\n",
      "No choices are acceptable for, 4678\n",
      "No choices are acceptable for, 4687\n",
      "No choices are acceptable for, 4742\n",
      "No choices are acceptable for, 4748\n",
      "No choices are acceptable for, 4754\n",
      "No choices are acceptable for, 4774\n",
      "No choices are acceptable for, 4776\n",
      "No choices are acceptable for, 4795\n",
      "No choices are acceptable for, 4815\n",
      "No choices are acceptable for, 4816\n",
      "No choices are acceptable for, 4821\n",
      "No choices are acceptable for, 4835\n",
      "No choices are acceptable for, 4847\n",
      "No choices are acceptable for, 4851\n",
      "No choices are acceptable for, 4852\n",
      "No choices are acceptable for, 4868\n",
      "No choices are acceptable for, 4884\n",
      "No choices are acceptable for, 4892\n",
      "No choices are acceptable for, 4912\n",
      "No choices are acceptable for, 4947\n",
      "No choices are acceptable for, 4950\n",
      "No choices are acceptable for, 4959\n",
      "No choices are acceptable for, 4960\n",
      "No choices are acceptable for, 4961\n",
      "No choices are acceptable for, 4964\n",
      "No choices are acceptable for, 4973\n",
      "No choices are acceptable for, 4976\n",
      "No choices are acceptable for, 4986\n",
      "No choices are acceptable for, 4990\n",
      "No choices are acceptable for, 4998\n"
     ]
    }
   ],
   "source": [
    "schedule = timetable()\n",
    "for key, row in df.iterrows():\n",
    "    fam_id = row.family_id\n",
    "    choice = 0\n",
    "    day = row.iloc[choice + 1]\n",
    "    npeople = row.n_people\n",
    "    \n",
    "    # check current choice is within limits\n",
    "    acceptable, choice = test_day_limit(day, choice, npeople)\n",
    "    \n",
    "    while choice < 8 and not acceptable:\n",
    "        choice += 1\n",
    "        day = row.iloc[choice + 1]\n",
    "        acceptable, choice = test_day_limit(day, choice, npeople)\n",
    "    else:\n",
    "        if not acceptable:\n",
    "            print(\"No choices are acceptable for, \" + str(fam_id))\n",
    "        else:\n",
    "            schedule.assign_family_by_choice(fam_id=fam_id, choice=choice)\n",
    "    "
   ]
  },
  {
   "cell_type": "code",
   "execution_count": 14,
   "metadata": {},
   "outputs": [
    {
     "data": {
      "text/plain": [
       "array([False, False, False, False, False, False, False, False, False,\n",
       "       False, False, False, False, False, False, False, False, False,\n",
       "       False, False, False, False, False, False, False, False, False,\n",
       "       False, False, False, False, False, False, False, False, False,\n",
       "       False, False, False, False, False, False, False,  True, False,\n",
       "       False, False, False, False,  True, False, False, False, False,\n",
       "       False, False, False, False, False, False, False,  True,  True,\n",
       "        True,  True, False, False, False,  True,  True,  True,  True,\n",
       "       False, False, False,  True,  True,  True,  True, False, False,\n",
       "       False,  True,  True,  True,  True, False, False, False,  True,\n",
       "        True,  True,  True, False, False, False,  True,  True,  True,\n",
       "        True])"
      ]
     },
     "execution_count": 14,
     "metadata": {},
     "output_type": "execute_result"
    }
   ],
   "source": [
    "schedule.get_day_totals() < 125"
   ]
  },
  {
   "cell_type": "code",
   "execution_count": null,
   "metadata": {},
   "outputs": [],
   "source": []
  },
  {
   "cell_type": "code",
   "execution_count": 21,
   "metadata": {},
   "outputs": [],
   "source": [
    "days = np.arange(100)\n",
    "low_popularity_days = days[schedule.get_day_totals() < 125]"
   ]
  },
  {
   "cell_type": "code",
   "execution_count": 40,
   "metadata": {},
   "outputs": [
    {
     "name": "stdout",
     "output_type": "stream",
     "text": [
      "No choices are acceptable for, 2162\n",
      "No choices are acceptable for, 2250\n",
      "No choices are acceptable for, 2461\n",
      "No choices are acceptable for, 2464\n",
      "No choices are acceptable for, 2832\n",
      "No choices are acceptable for, 2951\n",
      "No choices are acceptable for, 2977\n",
      "No choices are acceptable for, 3210\n",
      "No choices are acceptable for, 3261\n",
      "No choices are acceptable for, 3598\n",
      "No choices are acceptable for, 3754\n",
      "No choices are acceptable for, 4090\n",
      "No choices are acceptable for, 4092\n",
      "No choices are acceptable for, 4138\n",
      "No choices are acceptable for, 4237\n",
      "No choices are acceptable for, 4378\n",
      "No choices are acceptable for, 4457\n",
      "No choices are acceptable for, 4494\n",
      "No choices are acceptable for, 4512\n",
      "No choices are acceptable for, 4519\n",
      "No choices are acceptable for, 4521\n",
      "No choices are acceptable for, 4543\n",
      "No choices are acceptable for, 4544\n",
      "No choices are acceptable for, 4594\n",
      "No choices are acceptable for, 4632\n",
      "No choices are acceptable for, 4661\n",
      "No choices are acceptable for, 4662\n",
      "No choices are acceptable for, 4706\n",
      "No choices are acceptable for, 4714\n",
      "No choices are acceptable for, 4715\n",
      "No choices are acceptable for, 4716\n"
     ]
    },
    {
     "ename": "IndexError",
     "evalue": "single positional indexer is out-of-bounds",
     "output_type": "error",
     "traceback": [
      "\u001b[1;31m---------------------------------------------------------------------------\u001b[0m",
      "\u001b[1;31mIndexError\u001b[0m                                Traceback (most recent call last)",
      "\u001b[1;32m<ipython-input-40-63cbd5279bd9>\u001b[0m in \u001b[0;36m<module>\u001b[1;34m()\u001b[0m\n\u001b[0;32m     21\u001b[0m \u001b[1;33m\u001b[0m\u001b[0m\n\u001b[0;32m     22\u001b[0m     \u001b[1;31m# select the day based on the preference choice of the family\u001b[0m\u001b[1;33m\u001b[0m\u001b[1;33m\u001b[0m\u001b[0m\n\u001b[1;32m---> 23\u001b[1;33m     \u001b[0mday\u001b[0m \u001b[1;33m=\u001b[0m \u001b[0mrow\u001b[0m\u001b[1;33m.\u001b[0m\u001b[0miloc\u001b[0m\u001b[1;33m[\u001b[0m\u001b[0mchoice\u001b[0m \u001b[1;33m+\u001b[0m \u001b[1;36m1\u001b[0m\u001b[1;33m]\u001b[0m \u001b[1;31m# need plus one to skip the id column\u001b[0m\u001b[1;33m\u001b[0m\u001b[0m\n\u001b[0m\u001b[0;32m     24\u001b[0m \u001b[1;33m\u001b[0m\u001b[0m\n\u001b[0;32m     25\u001b[0m     \u001b[1;31m# check current day is within acceptable limits of people\u001b[0m\u001b[1;33m\u001b[0m\u001b[1;33m\u001b[0m\u001b[0m\n",
      "\u001b[1;32m~\\Anaconda3\\lib\\site-packages\\pandas\\core\\indexing.py\u001b[0m in \u001b[0;36m__getitem__\u001b[1;34m(self, key)\u001b[0m\n\u001b[0;32m   1498\u001b[0m \u001b[1;33m\u001b[0m\u001b[0m\n\u001b[0;32m   1499\u001b[0m             \u001b[0mmaybe_callable\u001b[0m \u001b[1;33m=\u001b[0m \u001b[0mcom\u001b[0m\u001b[1;33m.\u001b[0m\u001b[0mapply_if_callable\u001b[0m\u001b[1;33m(\u001b[0m\u001b[0mkey\u001b[0m\u001b[1;33m,\u001b[0m \u001b[0mself\u001b[0m\u001b[1;33m.\u001b[0m\u001b[0mobj\u001b[0m\u001b[1;33m)\u001b[0m\u001b[1;33m\u001b[0m\u001b[0m\n\u001b[1;32m-> 1500\u001b[1;33m             \u001b[1;32mreturn\u001b[0m \u001b[0mself\u001b[0m\u001b[1;33m.\u001b[0m\u001b[0m_getitem_axis\u001b[0m\u001b[1;33m(\u001b[0m\u001b[0mmaybe_callable\u001b[0m\u001b[1;33m,\u001b[0m \u001b[0maxis\u001b[0m\u001b[1;33m=\u001b[0m\u001b[0maxis\u001b[0m\u001b[1;33m)\u001b[0m\u001b[1;33m\u001b[0m\u001b[0m\n\u001b[0m\u001b[0;32m   1501\u001b[0m \u001b[1;33m\u001b[0m\u001b[0m\n\u001b[0;32m   1502\u001b[0m     \u001b[1;32mdef\u001b[0m \u001b[0m_is_scalar_access\u001b[0m\u001b[1;33m(\u001b[0m\u001b[0mself\u001b[0m\u001b[1;33m,\u001b[0m \u001b[0mkey\u001b[0m\u001b[1;33m)\u001b[0m\u001b[1;33m:\u001b[0m\u001b[1;33m\u001b[0m\u001b[0m\n",
      "\u001b[1;32m~\\Anaconda3\\lib\\site-packages\\pandas\\core\\indexing.py\u001b[0m in \u001b[0;36m_getitem_axis\u001b[1;34m(self, key, axis)\u001b[0m\n\u001b[0;32m   2228\u001b[0m \u001b[1;33m\u001b[0m\u001b[0m\n\u001b[0;32m   2229\u001b[0m             \u001b[1;31m# validate the location\u001b[0m\u001b[1;33m\u001b[0m\u001b[1;33m\u001b[0m\u001b[0m\n\u001b[1;32m-> 2230\u001b[1;33m             \u001b[0mself\u001b[0m\u001b[1;33m.\u001b[0m\u001b[0m_validate_integer\u001b[0m\u001b[1;33m(\u001b[0m\u001b[0mkey\u001b[0m\u001b[1;33m,\u001b[0m \u001b[0maxis\u001b[0m\u001b[1;33m)\u001b[0m\u001b[1;33m\u001b[0m\u001b[0m\n\u001b[0m\u001b[0;32m   2231\u001b[0m \u001b[1;33m\u001b[0m\u001b[0m\n\u001b[0;32m   2232\u001b[0m             \u001b[1;32mreturn\u001b[0m \u001b[0mself\u001b[0m\u001b[1;33m.\u001b[0m\u001b[0m_get_loc\u001b[0m\u001b[1;33m(\u001b[0m\u001b[0mkey\u001b[0m\u001b[1;33m,\u001b[0m \u001b[0maxis\u001b[0m\u001b[1;33m=\u001b[0m\u001b[0maxis\u001b[0m\u001b[1;33m)\u001b[0m\u001b[1;33m\u001b[0m\u001b[0m\n",
      "\u001b[1;32m~\\Anaconda3\\lib\\site-packages\\pandas\\core\\indexing.py\u001b[0m in \u001b[0;36m_validate_integer\u001b[1;34m(self, key, axis)\u001b[0m\n\u001b[0;32m   2137\u001b[0m         \u001b[0mlen_axis\u001b[0m \u001b[1;33m=\u001b[0m \u001b[0mlen\u001b[0m\u001b[1;33m(\u001b[0m\u001b[0mself\u001b[0m\u001b[1;33m.\u001b[0m\u001b[0mobj\u001b[0m\u001b[1;33m.\u001b[0m\u001b[0m_get_axis\u001b[0m\u001b[1;33m(\u001b[0m\u001b[0maxis\u001b[0m\u001b[1;33m)\u001b[0m\u001b[1;33m)\u001b[0m\u001b[1;33m\u001b[0m\u001b[0m\n\u001b[0;32m   2138\u001b[0m         \u001b[1;32mif\u001b[0m \u001b[0mkey\u001b[0m \u001b[1;33m>=\u001b[0m \u001b[0mlen_axis\u001b[0m \u001b[1;32mor\u001b[0m \u001b[0mkey\u001b[0m \u001b[1;33m<\u001b[0m \u001b[1;33m-\u001b[0m\u001b[0mlen_axis\u001b[0m\u001b[1;33m:\u001b[0m\u001b[1;33m\u001b[0m\u001b[0m\n\u001b[1;32m-> 2139\u001b[1;33m             \u001b[1;32mraise\u001b[0m \u001b[0mIndexError\u001b[0m\u001b[1;33m(\u001b[0m\u001b[1;34m\"single positional indexer is out-of-bounds\"\u001b[0m\u001b[1;33m)\u001b[0m\u001b[1;33m\u001b[0m\u001b[0m\n\u001b[0m\u001b[0;32m   2140\u001b[0m \u001b[1;33m\u001b[0m\u001b[0m\n\u001b[0;32m   2141\u001b[0m     \u001b[1;32mdef\u001b[0m \u001b[0m_getitem_tuple\u001b[0m\u001b[1;33m(\u001b[0m\u001b[0mself\u001b[0m\u001b[1;33m,\u001b[0m \u001b[0mtup\u001b[0m\u001b[1;33m)\u001b[0m\u001b[1;33m:\u001b[0m\u001b[1;33m\u001b[0m\u001b[0m\n",
      "\u001b[1;31mIndexError\u001b[0m: single positional indexer is out-of-bounds"
     ]
    }
   ],
   "source": [
    "schedule = timetable()\n",
    "for key, row in df.iterrows():\n",
    "    fam_id = row.family_id\n",
    "    npeople = row.n_people\n",
    "    \n",
    "    # if n people > 6, give them their first or second choice at random\n",
    "    # otherwise check if any of the family's first three choices are in the low popularity days\n",
    "    if npeople > 6:\n",
    "        round(np.random.uniform(0, 1),0)\n",
    "        \n",
    "    elif row.choice_0 in low_popularity_days:\n",
    "        choice = 0\n",
    "    elif row.choice_1 in low_popularity_days:\n",
    "        choice = 1\n",
    "    elif row.choice_2 in low_popularity_days:\n",
    "        choice = 2\n",
    "    elif row.choice_3 in low_popularity_days:\n",
    "        choice = 3\n",
    "    else:\n",
    "        round(np.random.uniform(0, 1),0)\n",
    "    \n",
    "    # select the day based on the preference choice of the family   \n",
    "    day = row.iloc[choice + 1] # need plus one to skip the id column\n",
    "    \n",
    "    # check current day is within acceptable limits of people\n",
    "    acceptable, choice = test_day_limit(day, choice, npeople)\n",
    "    \n",
    "    while choice < 8 and not acceptable:\n",
    "        choice += 1\n",
    "        day = row.iloc[choice + 1]\n",
    "        acceptable, choice = test_day_limit(day, choice, npeople)\n",
    "    else:\n",
    "        if not acceptable:\n",
    "            print(\"No choices are acceptable for, \" + str(fam_id))\n",
    "        else:\n",
    "            schedule.assign_family_by_choice(fam_id=fam_id, choice=choice)\n",
    "    "
   ]
  },
  {
   "cell_type": "code",
   "execution_count": 30,
   "metadata": {},
   "outputs": [
    {
     "data": {
      "text/plain": [
       "0.0"
      ]
     },
     "execution_count": 30,
     "metadata": {},
     "output_type": "execute_result"
    }
   ],
   "source": [
    "round(np.random.uniform(0, 1),0)"
   ]
  },
  {
   "cell_type": "code",
   "execution_count": 41,
   "metadata": {},
   "outputs": [
    {
     "data": {
      "text/plain": [
       "11"
      ]
     },
     "execution_count": 41,
     "metadata": {},
     "output_type": "execute_result"
    }
   ],
   "source": [
    "choice"
   ]
  },
  {
   "cell_type": "code",
   "execution_count": 43,
   "metadata": {},
   "outputs": [
    {
     "data": {
      "text/plain": [
       "3"
      ]
     },
     "execution_count": 43,
     "metadata": {},
     "output_type": "execute_result"
    }
   ],
   "source": [
    "day"
   ]
  },
  {
   "cell_type": "code",
   "execution_count": null,
   "metadata": {},
   "outputs": [],
   "source": []
  }
 ],
 "metadata": {
  "kernelspec": {
   "display_name": "Python 3",
   "language": "python",
   "name": "python3"
  },
  "language_info": {
   "codemirror_mode": {
    "name": "ipython",
    "version": 3
   },
   "file_extension": ".py",
   "mimetype": "text/x-python",
   "name": "python",
   "nbconvert_exporter": "python",
   "pygments_lexer": "ipython3",
   "version": "3.7.0"
  }
 },
 "nbformat": 4,
 "nbformat_minor": 2
}
