{
 "cells": [
  {
   "cell_type": "code",
   "execution_count": 1,
   "metadata": {
    "Collapsed": "false",
    "_cell_guid": "b1076dfc-b9ad-4769-8c92-a6c4dae69d19",
    "_uuid": "8f2839f25d086af736a60e9eeb907d3b93b6e0e5"
   },
   "outputs": [],
   "source": [
    "# This Python 3 environment comes with many helpful analytics libraries installed\n",
    "# It is defined by the kaggle/python docker image: https://github.com/kaggle/docker-python\n",
    "# For example, here's several helpful packages to load in \n",
    "\n",
    "import numpy as np # linear algebra\n",
    "import pandas as pd # data processing, CSV file I/O (e.g. pd.read_csv)\n",
    "\n",
    "# Input data files are available in the \"../input/\" directory.\n",
    "# For example, running this (by clicking run or pressing Shift+Enter) will list all files under the input directory\n",
    "\n",
    "import os\n",
    "# Any results you write to the current directory are saved as output."
   ]
  },
  {
   "cell_type": "code",
   "execution_count": 2,
   "metadata": {
    "Collapsed": "false"
   },
   "outputs": [
    {
     "data": {
      "text/plain": [
       "['.git',\n",
       " '.ipynb_checkpoints',\n",
       " 'class_timetable.ipynb',\n",
       " 'family_data.csv',\n",
       " 'Preference_Cost_Analysis.ipynb',\n",
       " 'README.md',\n",
       " 'sample_submission.csv',\n",
       " \"Santa's 2019 Starter Notebook.ipynb\"]"
      ]
     },
     "execution_count": 2,
     "metadata": {},
     "output_type": "execute_result"
    }
   ],
   "source": [
    "os.listdir()"
   ]
  },
  {
   "cell_type": "markdown",
   "metadata": {
    "Collapsed": "false"
   },
   "source": [
    "# Read in the family information and sample submission"
   ]
  },
  {
   "cell_type": "code",
   "execution_count": 3,
   "metadata": {
    "Collapsed": "false",
    "_cell_guid": "79c7e3d0-c299-4dcb-8224-4455121ee9b0",
    "_uuid": "d629ff2d2480ee46fbb7e2d37f6b5fab8052498a"
   },
   "outputs": [],
   "source": [
    "fpath = os.getcwd() + '\\\\family_data.csv'\n",
    "data = pd.read_csv(fpath, index_col='family_id')\n",
    "\n",
    "fpath = os.getcwd() + '\\\\sample_submission.csv'\n",
    "submission = pd.read_csv(fpath, index_col='family_id')"
   ]
  },
  {
   "cell_type": "code",
   "execution_count": 4,
   "metadata": {
    "Collapsed": "false"
   },
   "outputs": [
    {
     "data": {
      "text/html": [
       "<div>\n",
       "<style scoped>\n",
       "    .dataframe tbody tr th:only-of-type {\n",
       "        vertical-align: middle;\n",
       "    }\n",
       "\n",
       "    .dataframe tbody tr th {\n",
       "        vertical-align: top;\n",
       "    }\n",
       "\n",
       "    .dataframe thead th {\n",
       "        text-align: right;\n",
       "    }\n",
       "</style>\n",
       "<table border=\"1\" class=\"dataframe\">\n",
       "  <thead>\n",
       "    <tr style=\"text-align: right;\">\n",
       "      <th></th>\n",
       "      <th>choice_0</th>\n",
       "      <th>choice_1</th>\n",
       "      <th>choice_2</th>\n",
       "      <th>choice_3</th>\n",
       "      <th>choice_4</th>\n",
       "      <th>choice_5</th>\n",
       "      <th>choice_6</th>\n",
       "      <th>choice_7</th>\n",
       "      <th>choice_8</th>\n",
       "      <th>choice_9</th>\n",
       "      <th>n_people</th>\n",
       "    </tr>\n",
       "    <tr>\n",
       "      <th>family_id</th>\n",
       "      <th></th>\n",
       "      <th></th>\n",
       "      <th></th>\n",
       "      <th></th>\n",
       "      <th></th>\n",
       "      <th></th>\n",
       "      <th></th>\n",
       "      <th></th>\n",
       "      <th></th>\n",
       "      <th></th>\n",
       "      <th></th>\n",
       "    </tr>\n",
       "  </thead>\n",
       "  <tbody>\n",
       "    <tr>\n",
       "      <th>0</th>\n",
       "      <td>52</td>\n",
       "      <td>38</td>\n",
       "      <td>12</td>\n",
       "      <td>82</td>\n",
       "      <td>33</td>\n",
       "      <td>75</td>\n",
       "      <td>64</td>\n",
       "      <td>76</td>\n",
       "      <td>10</td>\n",
       "      <td>28</td>\n",
       "      <td>4</td>\n",
       "    </tr>\n",
       "    <tr>\n",
       "      <th>1</th>\n",
       "      <td>26</td>\n",
       "      <td>4</td>\n",
       "      <td>82</td>\n",
       "      <td>5</td>\n",
       "      <td>11</td>\n",
       "      <td>47</td>\n",
       "      <td>38</td>\n",
       "      <td>6</td>\n",
       "      <td>66</td>\n",
       "      <td>61</td>\n",
       "      <td>4</td>\n",
       "    </tr>\n",
       "    <tr>\n",
       "      <th>2</th>\n",
       "      <td>100</td>\n",
       "      <td>54</td>\n",
       "      <td>25</td>\n",
       "      <td>12</td>\n",
       "      <td>27</td>\n",
       "      <td>82</td>\n",
       "      <td>10</td>\n",
       "      <td>89</td>\n",
       "      <td>80</td>\n",
       "      <td>33</td>\n",
       "      <td>3</td>\n",
       "    </tr>\n",
       "    <tr>\n",
       "      <th>3</th>\n",
       "      <td>2</td>\n",
       "      <td>95</td>\n",
       "      <td>1</td>\n",
       "      <td>96</td>\n",
       "      <td>32</td>\n",
       "      <td>6</td>\n",
       "      <td>40</td>\n",
       "      <td>31</td>\n",
       "      <td>9</td>\n",
       "      <td>59</td>\n",
       "      <td>2</td>\n",
       "    </tr>\n",
       "    <tr>\n",
       "      <th>4</th>\n",
       "      <td>53</td>\n",
       "      <td>1</td>\n",
       "      <td>47</td>\n",
       "      <td>93</td>\n",
       "      <td>26</td>\n",
       "      <td>3</td>\n",
       "      <td>46</td>\n",
       "      <td>16</td>\n",
       "      <td>42</td>\n",
       "      <td>39</td>\n",
       "      <td>4</td>\n",
       "    </tr>\n",
       "  </tbody>\n",
       "</table>\n",
       "</div>"
      ],
      "text/plain": [
       "           choice_0  choice_1  choice_2  choice_3  choice_4  choice_5  \\\n",
       "family_id                                                               \n",
       "0                52        38        12        82        33        75   \n",
       "1                26         4        82         5        11        47   \n",
       "2               100        54        25        12        27        82   \n",
       "3                 2        95         1        96        32         6   \n",
       "4                53         1        47        93        26         3   \n",
       "\n",
       "           choice_6  choice_7  choice_8  choice_9  n_people  \n",
       "family_id                                                    \n",
       "0                64        76        10        28         4  \n",
       "1                38         6        66        61         4  \n",
       "2                10        89        80        33         3  \n",
       "3                40        31         9        59         2  \n",
       "4                46        16        42        39         4  "
      ]
     },
     "execution_count": 4,
     "metadata": {},
     "output_type": "execute_result"
    }
   ],
   "source": [
    "data.head()"
   ]
  },
  {
   "cell_type": "code",
   "execution_count": 5,
   "metadata": {
    "Collapsed": "false"
   },
   "outputs": [
    {
     "data": {
      "text/html": [
       "<div>\n",
       "<style scoped>\n",
       "    .dataframe tbody tr th:only-of-type {\n",
       "        vertical-align: middle;\n",
       "    }\n",
       "\n",
       "    .dataframe tbody tr th {\n",
       "        vertical-align: top;\n",
       "    }\n",
       "\n",
       "    .dataframe thead th {\n",
       "        text-align: right;\n",
       "    }\n",
       "</style>\n",
       "<table border=\"1\" class=\"dataframe\">\n",
       "  <thead>\n",
       "    <tr style=\"text-align: right;\">\n",
       "      <th></th>\n",
       "      <th>assigned_day</th>\n",
       "    </tr>\n",
       "    <tr>\n",
       "      <th>family_id</th>\n",
       "      <th></th>\n",
       "    </tr>\n",
       "  </thead>\n",
       "  <tbody>\n",
       "    <tr>\n",
       "      <th>0</th>\n",
       "      <td>100</td>\n",
       "    </tr>\n",
       "    <tr>\n",
       "      <th>1</th>\n",
       "      <td>99</td>\n",
       "    </tr>\n",
       "    <tr>\n",
       "      <th>2</th>\n",
       "      <td>98</td>\n",
       "    </tr>\n",
       "    <tr>\n",
       "      <th>3</th>\n",
       "      <td>97</td>\n",
       "    </tr>\n",
       "    <tr>\n",
       "      <th>4</th>\n",
       "      <td>96</td>\n",
       "    </tr>\n",
       "  </tbody>\n",
       "</table>\n",
       "</div>"
      ],
      "text/plain": [
       "           assigned_day\n",
       "family_id              \n",
       "0                   100\n",
       "1                    99\n",
       "2                    98\n",
       "3                    97\n",
       "4                    96"
      ]
     },
     "execution_count": 5,
     "metadata": {},
     "output_type": "execute_result"
    }
   ],
   "source": [
    "submission.head()"
   ]
  },
  {
   "cell_type": "markdown",
   "metadata": {
    "Collapsed": "false"
   },
   "source": [
    "# Create some lookup dictionaries and define constants\n",
    "\n",
    "You don't need to do it this way. :-)"
   ]
  },
  {
   "cell_type": "code",
   "execution_count": 6,
   "metadata": {
    "Collapsed": "false"
   },
   "outputs": [],
   "source": [
    "family_size_dict = data[['n_people']].to_dict()['n_people']\n",
    "\n",
    "cols = [f'choice_{i}' for i in range(10)]\n",
    "choice_dict = data[cols].to_dict()\n",
    "\n",
    "N_DAYS = 100\n",
    "MAX_OCCUPANCY = 300\n",
    "MIN_OCCUPANCY = 125\n",
    "\n",
    "# from 100 to 1\n",
    "days = list(range(N_DAYS,0,-1))"
   ]
  },
  {
   "cell_type": "markdown",
   "metadata": {
    "Collapsed": "false"
   },
   "source": [
    "# Cost Function\n",
    "Very un-optimized  ;-)"
   ]
  },
  {
   "cell_type": "code",
   "execution_count": 7,
   "metadata": {
    "Collapsed": "false"
   },
   "outputs": [],
   "source": [
    "def cost_function(prediction):\n",
    "\n",
    "    penalty = 0\n",
    "\n",
    "    # We'll use this to count the number of people scheduled each day\n",
    "    daily_occupancy = {k:0 for k in days}\n",
    "    \n",
    "    # Looping over each family; d is the day for each family f\n",
    "    for f, d in enumerate(prediction):\n",
    "\n",
    "        # Using our lookup dictionaries to make simpler variable names\n",
    "        n = family_size_dict[f]\n",
    "        choice_0 = choice_dict['choice_0'][f]\n",
    "        choice_1 = choice_dict['choice_1'][f]\n",
    "        choice_2 = choice_dict['choice_2'][f]\n",
    "        choice_3 = choice_dict['choice_3'][f]\n",
    "        choice_4 = choice_dict['choice_4'][f]\n",
    "        choice_5 = choice_dict['choice_5'][f]\n",
    "        choice_6 = choice_dict['choice_6'][f]\n",
    "        choice_7 = choice_dict['choice_7'][f]\n",
    "        choice_8 = choice_dict['choice_8'][f]\n",
    "        choice_9 = choice_dict['choice_9'][f]\n",
    "\n",
    "        # add the family member count to the daily occupancy\n",
    "        daily_occupancy[d] += n\n",
    "\n",
    "        # Calculate the penalty for not getting top preference\n",
    "        if d == choice_0:\n",
    "            penalty += 0\n",
    "        elif d == choice_1:\n",
    "            penalty += 50\n",
    "        elif d == choice_2:\n",
    "            penalty += 50 + 9 * n\n",
    "        elif d == choice_3:\n",
    "            penalty += 100 + 9 * n\n",
    "        elif d == choice_4:\n",
    "            penalty += 200 + 9 * n\n",
    "        elif d == choice_5:\n",
    "            penalty += 200 + 18 * n\n",
    "        elif d == choice_6:\n",
    "            penalty += 300 + 18 * n\n",
    "        elif d == choice_7:\n",
    "            penalty += 300 + 36 * n\n",
    "        elif d == choice_8:\n",
    "            penalty += 400 + 36 * n\n",
    "        elif d == choice_9:\n",
    "            penalty += 500 + 36 * n + 199 * n\n",
    "        else:\n",
    "            penalty += 500 + 36 * n + 398 * n\n",
    "\n",
    "    # for each date, check total occupancy\n",
    "    #  (using soft constraints instead of hard constraints)\n",
    "    for _, v in daily_occupancy.items():\n",
    "        if (v > MAX_OCCUPANCY) or (v < MIN_OCCUPANCY):\n",
    "            penalty += 100000000\n",
    "\n",
    "    # Calculate the accounting cost\n",
    "    # The first day (day 100) is treated special\n",
    "    accounting_cost = (daily_occupancy[days[0]]-125.0) / 400.0 * daily_occupancy[days[0]]**(0.5)\n",
    "    # using the max function because the soft constraints might allow occupancy to dip below 125\n",
    "    accounting_cost = max(0, accounting_cost)\n",
    "    \n",
    "    # Loop over the rest of the days, keeping track of previous count\n",
    "    yesterday_count = daily_occupancy[days[0]]\n",
    "    for day in days[1:]:\n",
    "        today_count = daily_occupancy[day]\n",
    "        diff = abs(today_count - yesterday_count)\n",
    "        accounting_cost += max(0, (daily_occupancy[day]-125.0) / 400.0 * daily_occupancy[day]**(0.5 + diff / 50.0))\n",
    "        yesterday_count = today_count\n",
    "\n",
    "    penalty += accounting_cost\n",
    "\n",
    "    return penalty"
   ]
  },
  {
   "cell_type": "markdown",
   "metadata": {
    "Collapsed": "false"
   },
   "source": [
    "# Simple Opimization Approach\n",
    "\n",
    "For each family, loop over their choices, and if keep it if the score improves. There's a lot of easy improvement that can be made to this code."
   ]
  },
  {
   "cell_type": "code",
   "execution_count": null,
   "metadata": {
    "Collapsed": "false"
   },
   "outputs": [],
   "source": [
    "# Start with the sample submission values\n",
    "best = submission['assigned_day'].tolist()\n",
    "start_score = cost_function(best)\n",
    "\n",
    "new = best.copy()\n",
    "# loop over each family\n",
    "for fam_id, _ in enumerate(best):\n",
    "    # loop over each family choice\n",
    "    for pick in range(10):\n",
    "        day = choice_dict[f'choice_{pick}'][fam_id]\n",
    "        temp = new.copy()\n",
    "        temp[fam_id] = day # add in the new pick\n",
    "        if cost_function(temp) < start_score:\n",
    "            new = temp.copy()\n",
    "            start_score = cost_function(new)\n",
    "\n",
    "submission['assigned_day'] = new\n",
    "score = cost_function(new)\n",
    "submission.to_csv(f'submission_{score}.csv')\n",
    "print(f'Score: {score}')"
   ]
  }
 ],
 "metadata": {
  "kernelspec": {
   "display_name": "Python 3",
   "language": "python",
   "name": "python3"
  },
  "language_info": {
   "codemirror_mode": {
    "name": "ipython",
    "version": 3
   },
   "file_extension": ".py",
   "mimetype": "text/x-python",
   "name": "python",
   "nbconvert_exporter": "python",
   "pygments_lexer": "ipython3",
   "version": "3.6.9"
  }
 },
 "nbformat": 4,
 "nbformat_minor": 4
}
